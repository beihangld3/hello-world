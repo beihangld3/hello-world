{
 "cells": [
  {
   "cell_type": "markdown",
   "metadata": {},
   "source": [
    "# n-gram 相似"
   ]
  },
  {
   "cell_type": "code",
   "execution_count": 24,
   "metadata": {
    "collapsed": false
   },
   "outputs": [
    {
     "name": "stdout",
     "output_type": "stream",
     "text": [
      "ascii\n"
     ]
    },
    {
     "data": {
      "text/plain": [
       "0.7142857142857143"
      ]
     },
     "execution_count": 24,
     "metadata": {},
     "output_type": "execute_result"
    }
   ],
   "source": [
    "#coding: UTF-8\n",
    "\n",
    "import sys\n",
    "print sys.getdefaultencoding()\n",
    "class NGramSimilarity(object):\n",
    "    def get_n_gram(self, query, n):\n",
    "        tempQuery=str(query).strip()\n",
    "        n_gram=[]\n",
    "        if n>len(tempQuery):\n",
    "            return tempQuery\n",
    "        else:\n",
    "            for i in range(0, len(tempQuery)-n+1):\n",
    "                n_gram.append(tempQuery[i:i+n])\n",
    "        return n_gram\n",
    "    def evaluate(self, query1, query2, n):\n",
    "        query1_n_gram=self.get_n_gram(query1, n)\n",
    "        query2_n_gram=self.get_n_gram(query2, n)\n",
    "        intersection=[s for s in query1_n_gram if s in query2_n_gram]\n",
    "        return (2.0*len(intersection)+1)/(len(query1_n_gram)+len(query1_n_gram)+1)\n",
    "        \n",
    "test=NGramSimilarity()\n",
    "# print(test.get_n_gram(\"sabc\",3))\n",
    "test.evaluate(\"abce\",\"abcd\",2)"
   ]
  },
  {
   "cell_type": "code",
   "execution_count": null,
   "metadata": {
    "collapsed": false
   },
   "outputs": [],
   "source": []
  },
  {
   "cell_type": "code",
   "execution_count": null,
   "metadata": {
    "collapsed": true
   },
   "outputs": [],
   "source": []
  }
 ],
 "metadata": {
  "kernelspec": {
   "display_name": "Python 2",
   "language": "python",
   "name": "python2"
  },
  "language_info": {
   "codemirror_mode": {
    "name": "ipython",
    "version": 2
   },
   "file_extension": ".py",
   "mimetype": "text/x-python",
   "name": "python",
   "nbconvert_exporter": "python",
   "pygments_lexer": "ipython2",
   "version": "2.7.10"
  }
 },
 "nbformat": 4,
 "nbformat_minor": 0
}
